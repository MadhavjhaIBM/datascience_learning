{
 "cells": [
  {
   "cell_type": "markdown",
   "metadata": {},
   "source": [
    "<a href=\"https://cognitiveclass.ai\"><img src = \"https://ibm.box.com/shared/static/ugcqz6ohbvff804xp84y4kqnvvk3bq1g.png\" width = 300, align = \"center\"></a>\n",
    "\n",
    "<h1 align=center><font size = 5>Assignment: Notebook for Peer Assignment</font></h1>"
   ]
  },
  {
   "cell_type": "markdown",
   "metadata": {},
   "source": [
    "# Introduction\n",
    "\n",
    "Using this Python notebook you will:\n",
    "1. Understand 3 Chicago datasets  \n",
    "1. Load the 3 datasets into 3 tables in a Db2 database\n",
    "1. Execute SQL queries to answer assignment questions "
   ]
  },
  {
   "cell_type": "markdown",
   "metadata": {},
   "source": [
    "## Understand the datasets \n",
    "To complete the assignment problems in this notebook you will be using three datasets that are available on the city of Chicago's Data Portal:\n",
    "1. <a href=\"https://data.cityofchicago.org/Health-Human-Services/Census-Data-Selected-socioeconomic-indicators-in-C/kn9c-c2s2\">Socioeconomic Indicators in Chicago</a>\n",
    "1. <a href=\"https://data.cityofchicago.org/Education/Chicago-Public-Schools-Progress-Report-Cards-2011-/9xs2-f89t\">Chicago Public Schools</a>\n",
    "1. <a href=\"https://data.cityofchicago.org/Public-Safety/Crimes-2001-to-present/ijzp-q8t2\">Chicago Crime Data</a>\n",
    "\n",
    "### 1. Socioeconomic Indicators in Chicago\n",
    "This dataset contains a selection of six socioeconomic indicators of public health significance and a “hardship index,” for each Chicago community area, for the years 2008 – 2012.\n",
    "\n",
    "For this assignment you will use a snapshot of this dataset which can be downloaded from:\n",
    "https://ibm.box.com/shared/static/05c3415cbfbtfnr2fx4atenb2sd361ze.csv\n",
    "\n",
    "A detailed description of this dataset and the original dataset can be obtained from the Chicago Data Portal at:\n",
    "https://data.cityofchicago.org/Health-Human-Services/Census-Data-Selected-socioeconomic-indicators-in-C/kn9c-c2s2\n",
    "\n",
    "\n",
    "\n",
    "### 2. Chicago Public Schools\n",
    "\n",
    "This dataset shows all school level performance data used to create CPS School Report Cards for the 2011-2012 school year. This dataset is provided by the city of Chicago's Data Portal.\n",
    "\n",
    "For this assignment you will use a snapshot of this dataset which can be downloaded from:\n",
    "https://ibm.box.com/shared/static/f9gjvj1gjmxxzycdhplzt01qtz0s7ew7.csv\n",
    "\n",
    "A detailed description of this dataset and the original dataset can be obtained from the Chicago Data Portal at:\n",
    "https://data.cityofchicago.org/Education/Chicago-Public-Schools-Progress-Report-Cards-2011-/9xs2-f89t\n",
    "\n",
    "\n",
    "\n",
    "\n",
    "### 3. Chicago Crime Data \n",
    "\n",
    "This dataset reflects reported incidents of crime (with the exception of murders where data exists for each victim) that occurred in the City of Chicago from 2001 to present, minus the most recent seven days. \n",
    "\n",
    "This dataset is quite large - over 1.5GB in size with over 6.5 million rows. For the purposes of this assignment we will use a much smaller sample of this dataset which can be downloaded from:\n",
    "https://ibm.box.com/shared/static/svflyugsr9zbqy5bmowgswqemfpm1x7f.csv\n",
    "\n",
    "A detailed description of this dataset and the original dataset can be obtained from the Chicago Data Portal at:\n",
    "https://data.cityofchicago.org/Public-Safety/Crimes-2001-to-present/ijzp-q8t2\n"
   ]
  },
  {
   "cell_type": "markdown",
   "metadata": {},
   "source": [
    "### Download the datasets\n",
    "In many cases the dataset to be analyzed is available as a .CSV (comma separated values) file, perhaps on the internet. Click on the links below to download and save the datasets (.CSV files):\n",
    "1. __CENSUS_DATA:__ https://ibm.box.com/shared/static/05c3415cbfbtfnr2fx4atenb2sd361ze.csv\n",
    "1. __CHICAGO_PUBLIC_SCHOOLS__  https://ibm.box.com/shared/static/f9gjvj1gjmxxzycdhplzt01qtz0s7ew7.csv\n",
    "1. __CHICAGO_CRIME_DATA:__ https://ibm.box.com/shared/static/svflyugsr9zbqy5bmowgswqemfpm1x7f.csv\n",
    "\n",
    "__NOTE:__ Ensure you have downloaded the datasets using the links above instead of directly from the Chicago Data Portal. The versions linked here are subsets of the original datasets and have some of the column names modified to be more database friendly which will make it easier to complete this assignment."
   ]
  },
  {
   "cell_type": "markdown",
   "metadata": {},
   "source": [
    "### Store the datasets in database tables\n",
    "To analyze the data using SQL, it first needs to be stored in the database.\n",
    "\n",
    "While it is easier to read the dataset into a Pandas dataframe and then PERSIST it into the database as we saw in Week 3 Lab 3, it results in mapping to default datatypes which may not be optimal for SQL querying. For example a long textual field may map to a CLOB instead of a VARCHAR. \n",
    "\n",
    "Therefore, __it is highly recommended to manually load the table using the database console LOAD tool, as indicated in Week 2 Lab 1 Part II__. The only difference with that lab is that in Step 5 of the instructions you will need to click on create \"(+) New Table\" and specify the name of the table you want to create and then click \"Next\". \n",
    "\n",
    "<img src = \"https://ibm.box.com/shared/static/uc4xjh1uxcc78ks1i18v668simioz4es.jpg\">\n",
    "\n",
    "##### Now open the Db2 console, open the LOAD tool, Select / Drag the .CSV file for the first dataset, Next create a New Table, and then follow the steps on-screen instructions to load the data. Name the new tables as folows:\n",
    "1. __CENSUS_DATA__\n",
    "1. __CHICAGO_PUBLIC_SCHOOLS__\n",
    "1. __CHICAGO_CRIME_DATA__"
   ]
  },
  {
   "cell_type": "markdown",
   "metadata": {},
   "source": [
    "### Connect to the database \n",
    "Let us first load the SQL extension and establish a connection with the database"
   ]
  },
  {
   "cell_type": "code",
   "execution_count": 2,
   "metadata": {},
   "outputs": [],
   "source": [
    "%load_ext sql"
   ]
  },
  {
   "cell_type": "markdown",
   "metadata": {},
   "source": [
    "In the next cell enter your db2 connection string. Recall you created Service Credentials for your Db2 instance in first lab in Week 3. From the __uri__ field of your Db2 service credentials copy everything after db2:// (except the double quote at the end) and paste it in the cell below after ibm_db_sa://\n",
    "\n",
    "<img src =\"https://ibm.box.com/shared/static/hzhkvdyinpupm2wfx49lkr71q9swbpec.jpg\">"
   ]
  },
  {
   "cell_type": "code",
   "execution_count": 4,
   "metadata": {},
   "outputs": [
    {
     "data": {
      "text/plain": [
       "'Connected: ttg95042@BLUDB'"
      ]
     },
     "execution_count": 4,
     "metadata": {},
     "output_type": "execute_result"
    }
   ],
   "source": [
    "# Remember the connection string is of the format:\n",
    "# %sql ibm_db_sa://my-username:my-password@my-hostname:my-port/my-db-name\n",
    "# Enter the connection string for your Db2 on Cloud database instance below\n",
    "%sql ibm_db_sa://ttg95042:<passwordremoved>@dashdb-txn-sbox-yp-lon02-01.services.eu-gb.bluemix.net:50000/BLUDB"
   ]
  },
  {
   "cell_type": "markdown",
   "metadata": {},
   "source": [
    "## Problems\n",
    "Now write and execute SQL queries to solve assignment problems\n",
    "\n",
    "### Problem 1\n",
    "\n",
    "##### Find the total number of crimes recorded in the CRIME table"
   ]
  },
  {
   "cell_type": "code",
   "execution_count": 14,
   "metadata": {},
   "outputs": [
    {
     "name": "stdout",
     "output_type": "stream",
     "text": [
      " * ibm_db_sa://ttg95042:***@dashdb-txn-sbox-yp-lon02-01.services.eu-gb.bluemix.net:50000/BLUDB\n",
      "Done.\n"
     ]
    },
    {
     "data": {
      "text/html": [
       "<table>\n",
       "    <tr>\n",
       "        <th>1</th>\n",
       "    </tr>\n",
       "    <tr>\n",
       "        <td>533</td>\n",
       "    </tr>\n",
       "</table>"
      ],
      "text/plain": [
       "[(Decimal('533'),)]"
      ]
     },
     "execution_count": 14,
     "metadata": {},
     "output_type": "execute_result"
    }
   ],
   "source": [
    "%sql select count(*) from chicago_crime_data;"
   ]
  },
  {
   "cell_type": "code",
   "execution_count": null,
   "metadata": {},
   "outputs": [],
   "source": [
    "# Rows in Crime table\n",
    "533"
   ]
  },
  {
   "cell_type": "markdown",
   "metadata": {},
   "source": [
    "### Problem 2\n",
    "\n",
    "##### Retrieve first 10 rows from the CRIME table\n"
   ]
  },
  {
   "cell_type": "code",
   "execution_count": 5,
   "metadata": {
    "collapsed": true
   },
   "outputs": [
    {
     "name": "stdout",
     "output_type": "stream",
     "text": [
      " * ibm_db_sa://ttg95042:***@dashdb-txn-sbox-yp-lon02-01.services.eu-gb.bluemix.net:50000/BLUDB\n",
      "Done.\n"
     ]
    },
    {
     "data": {
      "text/html": [
       "<table>\n",
       "    <tr>\n",
       "        <th>id</th>\n",
       "        <th>case_number</th>\n",
       "        <th>DATE</th>\n",
       "        <th>block</th>\n",
       "        <th>iucr</th>\n",
       "        <th>primary_type</th>\n",
       "        <th>description</th>\n",
       "        <th>location_description</th>\n",
       "        <th>arrest</th>\n",
       "        <th>domestic</th>\n",
       "        <th>beat</th>\n",
       "        <th>district</th>\n",
       "        <th>ward</th>\n",
       "        <th>community_area_number</th>\n",
       "        <th>fbicode</th>\n",
       "        <th>x_coordinate</th>\n",
       "        <th>y_coordinate</th>\n",
       "        <th>YEAR</th>\n",
       "        <th>updatedon</th>\n",
       "        <th>latitude</th>\n",
       "        <th>longitude</th>\n",
       "        <th>location</th>\n",
       "    </tr>\n",
       "    <tr>\n",
       "        <td>1326195</td>\n",
       "        <td>G021609</td>\n",
       "        <td>1/11/2001 2:30</td>\n",
       "        <td>087XX S ESCANABA AV</td>\n",
       "        <td>9901</td>\n",
       "        <td>DOMESTIC VIOLENCE</td>\n",
       "        <td>DOMESTIC VIOLENCE</td>\n",
       "        <td>APARTMENT</td>\n",
       "        <td>TRUE</td>\n",
       "        <td>TRUE</td>\n",
       "        <td>423</td>\n",
       "        <td>4</td>\n",
       "        <td>None</td>\n",
       "        <td>None</td>\n",
       "        <td>08B</td>\n",
       "        <td>1196869</td>\n",
       "        <td>1847416</td>\n",
       "        <td>2001</td>\n",
       "        <td>8/17/2015 15:03</td>\n",
       "        <td>41.73617608</td>\n",
       "        <td>-87.55431961</td>\n",
       "        <td>(41.73617608, -87.554319607)</td>\n",
       "    </tr>\n",
       "    <tr>\n",
       "        <td>1340847</td>\n",
       "        <td>G040244</td>\n",
       "        <td>1/19/2001 18:39</td>\n",
       "        <td>063XX N NAGLE AV</td>\n",
       "        <td>820</td>\n",
       "        <td>THEFT</td>\n",
       "        <td>$500 AND UNDER</td>\n",
       "        <td>GROCERY FOOD STORE</td>\n",
       "        <td>TRUE</td>\n",
       "        <td>FALSE</td>\n",
       "        <td>1611</td>\n",
       "        <td>16</td>\n",
       "        <td>None</td>\n",
       "        <td>None</td>\n",
       "        <td>6</td>\n",
       "        <td>1132586</td>\n",
       "        <td>1941599</td>\n",
       "        <td>2001</td>\n",
       "        <td>8/17/2015 15:03</td>\n",
       "        <td>41.99598354</td>\n",
       "        <td>-87.78763989</td>\n",
       "        <td>(41.99598354, -87.787639887)</td>\n",
       "    </tr>\n",
       "    <tr>\n",
       "        <td>1353618</td>\n",
       "        <td>G056330</td>\n",
       "        <td>1/27/2001 16:20</td>\n",
       "        <td>078XX S SAWYER AV</td>\n",
       "        <td>460</td>\n",
       "        <td>BATTERY</td>\n",
       "        <td>SIMPLE</td>\n",
       "        <td>RESIDENCE PORCH/HALLWAY</td>\n",
       "        <td>TRUE</td>\n",
       "        <td>TRUE</td>\n",
       "        <td>835</td>\n",
       "        <td>8</td>\n",
       "        <td>None</td>\n",
       "        <td>None</td>\n",
       "        <td>08B</td>\n",
       "        <td>1156032</td>\n",
       "        <td>1852572</td>\n",
       "        <td>2001</td>\n",
       "        <td>8/17/2015 15:03</td>\n",
       "        <td>41.75124194</td>\n",
       "        <td>-87.70379416</td>\n",
       "        <td>(41.751241937, -87.703794164)</td>\n",
       "    </tr>\n",
       "    <tr>\n",
       "        <td>1367327</td>\n",
       "        <td>G057394</td>\n",
       "        <td>1/28/2001 7:10</td>\n",
       "        <td>046XX S CICERO AV</td>\n",
       "        <td>1513</td>\n",
       "        <td>PROSTITUTION</td>\n",
       "        <td>SOLICIT FOR BUSINESS</td>\n",
       "        <td>STREET</td>\n",
       "        <td>TRUE</td>\n",
       "        <td>FALSE</td>\n",
       "        <td>814</td>\n",
       "        <td>8</td>\n",
       "        <td>None</td>\n",
       "        <td>None</td>\n",
       "        <td>16</td>\n",
       "        <td>1145110</td>\n",
       "        <td>1873073</td>\n",
       "        <td>2001</td>\n",
       "        <td>8/17/2015 15:03</td>\n",
       "        <td>41.80771246</td>\n",
       "        <td>-87.74330304</td>\n",
       "        <td>(41.807712461, -87.743303038)</td>\n",
       "    </tr>\n",
       "    <tr>\n",
       "        <td>1363954</td>\n",
       "        <td>G070193</td>\n",
       "        <td>2/3/2001 3:00</td>\n",
       "        <td>004XX W WRIGHTWOOD AV</td>\n",
       "        <td>460</td>\n",
       "        <td>BATTERY</td>\n",
       "        <td>SIMPLE</td>\n",
       "        <td>RESIDENCE</td>\n",
       "        <td>FALSE</td>\n",
       "        <td>FALSE</td>\n",
       "        <td>2333</td>\n",
       "        <td>19</td>\n",
       "        <td>None</td>\n",
       "        <td>None</td>\n",
       "        <td>08B</td>\n",
       "        <td>1172852</td>\n",
       "        <td>1918278</td>\n",
       "        <td>2001</td>\n",
       "        <td>8/17/2015 15:03</td>\n",
       "        <td>41.93119046</td>\n",
       "        <td>-87.64021400</td>\n",
       "        <td>(41.93119046, -87.640214004)</td>\n",
       "    </tr>\n",
       "    <tr>\n",
       "        <td>1427912</td>\n",
       "        <td>G122095</td>\n",
       "        <td>3/2/2001 16:20</td>\n",
       "        <td>039XX N ASHLAND AV</td>\n",
       "        <td>1505</td>\n",
       "        <td>PROSTITUTION</td>\n",
       "        <td>CALL OPERATION</td>\n",
       "        <td>RESIDENCE</td>\n",
       "        <td>TRUE</td>\n",
       "        <td>FALSE</td>\n",
       "        <td>1923</td>\n",
       "        <td>19</td>\n",
       "        <td>None</td>\n",
       "        <td>None</td>\n",
       "        <td>16</td>\n",
       "        <td>1164982</td>\n",
       "        <td>1926580</td>\n",
       "        <td>2001</td>\n",
       "        <td>8/17/2015 15:03</td>\n",
       "        <td>41.95414251</td>\n",
       "        <td>-87.66889815</td>\n",
       "        <td>(41.954142513, -87.668898147)</td>\n",
       "    </tr>\n",
       "    <tr>\n",
       "        <td>1414626</td>\n",
       "        <td>G134016</td>\n",
       "        <td>3/1/2001 23:00</td>\n",
       "        <td>055XX S NOTTINGHAM AV</td>\n",
       "        <td>1310</td>\n",
       "        <td>CRIMINAL DAMAGE</td>\n",
       "        <td>TO PROPERTY</td>\n",
       "        <td>RESIDENCE</td>\n",
       "        <td>FALSE</td>\n",
       "        <td>FALSE</td>\n",
       "        <td>811</td>\n",
       "        <td>8</td>\n",
       "        <td>None</td>\n",
       "        <td>None</td>\n",
       "        <td>14</td>\n",
       "        <td>1130022</td>\n",
       "        <td>1866716</td>\n",
       "        <td>2001</td>\n",
       "        <td>8/17/2015 15:03</td>\n",
       "        <td>41.79053860</td>\n",
       "        <td>-87.79878798</td>\n",
       "        <td>(41.790538595, -87.79878798)</td>\n",
       "    </tr>\n",
       "    <tr>\n",
       "        <td>1419496</td>\n",
       "        <td>G140454</td>\n",
       "        <td>3/11/2001 16:44</td>\n",
       "        <td>077XX S SOUTH SHORE DR</td>\n",
       "        <td>460</td>\n",
       "        <td>BATTERY</td>\n",
       "        <td>SIMPLE</td>\n",
       "        <td>APARTMENT</td>\n",
       "        <td>FALSE</td>\n",
       "        <td>FALSE</td>\n",
       "        <td>421</td>\n",
       "        <td>4</td>\n",
       "        <td>None</td>\n",
       "        <td>None</td>\n",
       "        <td>08B</td>\n",
       "        <td>1197205</td>\n",
       "        <td>1854743</td>\n",
       "        <td>2001</td>\n",
       "        <td>8/17/2015 15:03</td>\n",
       "        <td>41.75627357</td>\n",
       "        <td>-87.55284517</td>\n",
       "        <td>(41.756273565, -87.552845167)</td>\n",
       "    </tr>\n",
       "    <tr>\n",
       "        <td>1455002</td>\n",
       "        <td>G158614</td>\n",
       "        <td>3/18/2001 4:30</td>\n",
       "        <td>059XX S GREEN ST</td>\n",
       "        <td>261</td>\n",
       "        <td>CRIM SEXUAL ASSAULT</td>\n",
       "        <td>AGGRAVATED: HANDGUN</td>\n",
       "        <td>ALLEY</td>\n",
       "        <td>FALSE</td>\n",
       "        <td>FALSE</td>\n",
       "        <td>712</td>\n",
       "        <td>7</td>\n",
       "        <td>None</td>\n",
       "        <td>None</td>\n",
       "        <td>2</td>\n",
       "        <td>1171608</td>\n",
       "        <td>1865691</td>\n",
       "        <td>2001</td>\n",
       "        <td>8/17/2015 15:03</td>\n",
       "        <td>41.78691515</td>\n",
       "        <td>-87.64633171</td>\n",
       "        <td>(41.786915146, -87.646331709)</td>\n",
       "    </tr>\n",
       "    <tr>\n",
       "        <td>1438213</td>\n",
       "        <td>G161722</td>\n",
       "        <td>3/21/2001 16:10</td>\n",
       "        <td>011XX W WILSON AV</td>\n",
       "        <td>1210</td>\n",
       "        <td>DECEPTIVE PRACTICE</td>\n",
       "        <td>THEFT OF LABOR/SERVICES</td>\n",
       "        <td>CTA PLATFORM</td>\n",
       "        <td>TRUE</td>\n",
       "        <td>FALSE</td>\n",
       "        <td>2311</td>\n",
       "        <td>19</td>\n",
       "        <td>None</td>\n",
       "        <td>None</td>\n",
       "        <td>11</td>\n",
       "        <td>1167954</td>\n",
       "        <td>1930663</td>\n",
       "        <td>2001</td>\n",
       "        <td>8/17/2015 15:03</td>\n",
       "        <td>41.96528267</td>\n",
       "        <td>-87.65785443</td>\n",
       "        <td>(41.965282666, -87.657854427)</td>\n",
       "    </tr>\n",
       "</table>"
      ],
      "text/plain": [
       "[(1326195, 'G021609', '1/11/2001 2:30', '087XX S ESCANABA AV', '9901', 'DOMESTIC VIOLENCE', 'DOMESTIC VIOLENCE', 'APARTMENT', 'TRUE', 'TRUE', 423, 4, None, None, '08B', 1196869, 1847416, 2001, '8/17/2015 15:03', Decimal('41.73617608'), Decimal('-87.55431961'), '(41.73617608, -87.554319607)'),\n",
       " (1340847, 'G040244', '1/19/2001 18:39', '063XX N NAGLE AV', '820', 'THEFT', '$500 AND UNDER', 'GROCERY FOOD STORE', 'TRUE', 'FALSE', 1611, 16, None, None, '6', 1132586, 1941599, 2001, '8/17/2015 15:03', Decimal('41.99598354'), Decimal('-87.78763989'), '(41.99598354, -87.787639887)'),\n",
       " (1353618, 'G056330', '1/27/2001 16:20', '078XX S SAWYER AV', '460', 'BATTERY', 'SIMPLE', 'RESIDENCE PORCH/HALLWAY', 'TRUE', 'TRUE', 835, 8, None, None, '08B', 1156032, 1852572, 2001, '8/17/2015 15:03', Decimal('41.75124194'), Decimal('-87.70379416'), '(41.751241937, -87.703794164)'),\n",
       " (1367327, 'G057394', '1/28/2001 7:10', '046XX S CICERO AV', '1513', 'PROSTITUTION', 'SOLICIT FOR BUSINESS', 'STREET', 'TRUE', 'FALSE', 814, 8, None, None, '16', 1145110, 1873073, 2001, '8/17/2015 15:03', Decimal('41.80771246'), Decimal('-87.74330304'), '(41.807712461, -87.743303038)'),\n",
       " (1363954, 'G070193', '2/3/2001 3:00', '004XX W WRIGHTWOOD AV', '460', 'BATTERY', 'SIMPLE', 'RESIDENCE', 'FALSE', 'FALSE', 2333, 19, None, None, '08B', 1172852, 1918278, 2001, '8/17/2015 15:03', Decimal('41.93119046'), Decimal('-87.64021400'), '(41.93119046, -87.640214004)'),\n",
       " (1427912, 'G122095', '3/2/2001 16:20', '039XX N ASHLAND AV', '1505', 'PROSTITUTION', 'CALL OPERATION', 'RESIDENCE', 'TRUE', 'FALSE', 1923, 19, None, None, '16', 1164982, 1926580, 2001, '8/17/2015 15:03', Decimal('41.95414251'), Decimal('-87.66889815'), '(41.954142513, -87.668898147)'),\n",
       " (1414626, 'G134016', '3/1/2001 23:00', '055XX S NOTTINGHAM AV', '1310', 'CRIMINAL DAMAGE', 'TO PROPERTY', 'RESIDENCE', 'FALSE', 'FALSE', 811, 8, None, None, '14', 1130022, 1866716, 2001, '8/17/2015 15:03', Decimal('41.79053860'), Decimal('-87.79878798'), '(41.790538595, -87.79878798)'),\n",
       " (1419496, 'G140454', '3/11/2001 16:44', '077XX S SOUTH SHORE DR', '460', 'BATTERY', 'SIMPLE', 'APARTMENT', 'FALSE', 'FALSE', 421, 4, None, None, '08B', 1197205, 1854743, 2001, '8/17/2015 15:03', Decimal('41.75627357'), Decimal('-87.55284517'), '(41.756273565, -87.552845167)'),\n",
       " (1455002, 'G158614', '3/18/2001 4:30', '059XX S GREEN ST', '261', 'CRIM SEXUAL ASSAULT', 'AGGRAVATED: HANDGUN', 'ALLEY', 'FALSE', 'FALSE', 712, 7, None, None, '2', 1171608, 1865691, 2001, '8/17/2015 15:03', Decimal('41.78691515'), Decimal('-87.64633171'), '(41.786915146, -87.646331709)'),\n",
       " (1438213, 'G161722', '3/21/2001 16:10', '011XX W WILSON AV', '1210', 'DECEPTIVE PRACTICE', 'THEFT OF LABOR/SERVICES', 'CTA PLATFORM', 'TRUE', 'FALSE', 2311, 19, None, None, '11', 1167954, 1930663, 2001, '8/17/2015 15:03', Decimal('41.96528267'), Decimal('-87.65785443'), '(41.965282666, -87.657854427)')]"
      ]
     },
     "execution_count": 5,
     "metadata": {},
     "output_type": "execute_result"
    }
   ],
   "source": [
    "%sql select * FROM CHICAGO_CRIME_DATA  ORDER BY CASE_NUMBER fetch first 10 rows only;"
   ]
  },
  {
   "cell_type": "markdown",
   "metadata": {},
   "source": [
    "### Problem 3\n",
    "\n",
    "##### How many crimes involve an arrest?"
   ]
  },
  {
   "cell_type": "code",
   "execution_count": 6,
   "metadata": {
    "collapsed": true
   },
   "outputs": [
    {
     "name": "stdout",
     "output_type": "stream",
     "text": [
      " * ibm_db_sa://ttg95042:***@dashdb-txn-sbox-yp-lon02-01.services.eu-gb.bluemix.net:50000/BLUDB\n",
      "Done.\n"
     ]
    },
    {
     "data": {
      "text/html": [
       "<table>\n",
       "    <tr>\n",
       "        <th>1</th>\n",
       "    </tr>\n",
       "    <tr>\n",
       "        <td>163</td>\n",
       "    </tr>\n",
       "</table>"
      ],
      "text/plain": [
       "[(Decimal('163'),)]"
      ]
     },
     "execution_count": 6,
     "metadata": {},
     "output_type": "execute_result"
    }
   ],
   "source": [
    "%sql select count(*) from chicago_crime_data WHERE arrest='TRUE'"
   ]
  },
  {
   "cell_type": "markdown",
   "metadata": {},
   "source": [
    "### Problem 4\n",
    "\n",
    "##### Which unique types of crimes have been recorded at GAS STATION locations?\n"
   ]
  },
  {
   "cell_type": "markdown",
   "metadata": {},
   "source": [
    "None of the crime recorded at Gas Station is domestic related as defined by the Illinois Domestic Violence Act."
   ]
  },
  {
   "cell_type": "markdown",
   "metadata": {},
   "source": [
    "Hint: Which column lists types of crimes e.g. THEFT?"
   ]
  },
  {
   "cell_type": "markdown",
   "metadata": {},
   "source": [
    "### Problem 5\n",
    "\n",
    "##### In the CENUS_DATA table list all Community Areas whose names start with the letter ‘B’."
   ]
  },
  {
   "cell_type": "code",
   "execution_count": 8,
   "metadata": {
    "collapsed": true
   },
   "outputs": [
    {
     "name": "stdout",
     "output_type": "stream",
     "text": [
      " * ibm_db_sa://ttg95042:***@dashdb-txn-sbox-yp-lon02-01.services.eu-gb.bluemix.net:50000/BLUDB\n",
      "Done.\n"
     ]
    },
    {
     "data": {
      "text/html": [
       "<table>\n",
       "    <tr>\n",
       "        <th>community_area_number</th>\n",
       "        <th>community_area_name</th>\n",
       "        <th>percent_of_housing_crowded</th>\n",
       "        <th>percent_households_below_poverty</th>\n",
       "        <th>percent_aged_16__unemployed</th>\n",
       "        <th>percent_aged_25__without_high_school_diploma</th>\n",
       "        <th>percent_aged_under_18_or_over_64</th>\n",
       "        <th>per_capita_income</th>\n",
       "        <th>hardship_index</th>\n",
       "    </tr>\n",
       "    <tr>\n",
       "        <td>19</td>\n",
       "        <td>Belmont Cragin</td>\n",
       "        <td>10.8</td>\n",
       "        <td>18.7</td>\n",
       "        <td>14.6</td>\n",
       "        <td>37.3</td>\n",
       "        <td>37.3</td>\n",
       "        <td>15461</td>\n",
       "        <td>70</td>\n",
       "    </tr>\n",
       "    <tr>\n",
       "        <td>47</td>\n",
       "        <td>Burnside</td>\n",
       "        <td>6.8</td>\n",
       "        <td>33.0</td>\n",
       "        <td>18.6</td>\n",
       "        <td>19.3</td>\n",
       "        <td>42.7</td>\n",
       "        <td>12515</td>\n",
       "        <td>79</td>\n",
       "    </tr>\n",
       "    <tr>\n",
       "        <td>58</td>\n",
       "        <td>Brighton Park</td>\n",
       "        <td>14.4</td>\n",
       "        <td>23.6</td>\n",
       "        <td>13.9</td>\n",
       "        <td>45.1</td>\n",
       "        <td>39.3</td>\n",
       "        <td>13089</td>\n",
       "        <td>84</td>\n",
       "    </tr>\n",
       "    <tr>\n",
       "        <td>60</td>\n",
       "        <td>Bridgeport</td>\n",
       "        <td>4.5</td>\n",
       "        <td>18.9</td>\n",
       "        <td>13.7</td>\n",
       "        <td>22.2</td>\n",
       "        <td>31.3</td>\n",
       "        <td>22694</td>\n",
       "        <td>43</td>\n",
       "    </tr>\n",
       "    <tr>\n",
       "        <td>72</td>\n",
       "        <td>Beverly</td>\n",
       "        <td>0.9</td>\n",
       "        <td>5.1</td>\n",
       "        <td>8.0</td>\n",
       "        <td>3.7</td>\n",
       "        <td>40.5</td>\n",
       "        <td>39523</td>\n",
       "        <td>12</td>\n",
       "    </tr>\n",
       "</table>"
      ],
      "text/plain": [
       "[(19, 'Belmont Cragin', Decimal('10.8'), Decimal('18.7'), Decimal('14.6'), Decimal('37.3'), Decimal('37.3'), 15461, 70),\n",
       " (47, 'Burnside', Decimal('6.8'), Decimal('33.0'), Decimal('18.6'), Decimal('19.3'), Decimal('42.7'), 12515, 79),\n",
       " (58, 'Brighton Park', Decimal('14.4'), Decimal('23.6'), Decimal('13.9'), Decimal('45.1'), Decimal('39.3'), 13089, 84),\n",
       " (60, 'Bridgeport', Decimal('4.5'), Decimal('18.9'), Decimal('13.7'), Decimal('22.2'), Decimal('31.3'), 22694, 43),\n",
       " (72, 'Beverly', Decimal('0.9'), Decimal('5.1'), Decimal('8.0'), Decimal('3.7'), Decimal('40.5'), 39523, 12)]"
      ]
     },
     "execution_count": 8,
     "metadata": {},
     "output_type": "execute_result"
    }
   ],
   "source": [
    "%sql select * from CENSUS_DATA where community_area_name like 'B%';"
   ]
  },
  {
   "cell_type": "markdown",
   "metadata": {},
   "source": [
    "### Problem 6\n",
    "\n",
    "##### Which schools in Community Areas 10 to 15 are healthy school certified?"
   ]
  },
  {
   "cell_type": "code",
   "execution_count": 9,
   "metadata": {
    "collapsed": true
   },
   "outputs": [
    {
     "name": "stdout",
     "output_type": "stream",
     "text": [
      " * ibm_db_sa://ttg95042:***@dashdb-txn-sbox-yp-lon02-01.services.eu-gb.bluemix.net:50000/BLUDB\n",
      "Done.\n"
     ]
    },
    {
     "data": {
      "text/html": [
       "<table>\n",
       "    <tr>\n",
       "        <th>community_area_number</th>\n",
       "        <th>healthy_school_certified</th>\n",
       "    </tr>\n",
       "    <tr>\n",
       "        <td>Rufus M Hitch Elementary School</td>\n",
       "        <td>Yes</td>\n",
       "    </tr>\n",
       "</table>"
      ],
      "text/plain": [
       "[('Rufus M Hitch Elementary School', 'Yes')]"
      ]
     },
     "execution_count": 9,
     "metadata": {},
     "output_type": "execute_result"
    }
   ],
   "source": [
    "%sql select name_of_school \\\n",
    "community_area_number,healthy_school_certified  from  Chicago_Public_Schools \\\n",
    "where community_area_number >=10 and community_area_number <=15 \\\n",
    "and healthy_school_certified ='Yes';"
   ]
  },
  {
   "cell_type": "markdown",
   "metadata": {},
   "source": [
    "### Problem 7\n",
    "\n",
    "##### What is the average school Safety Score? "
   ]
  },
  {
   "cell_type": "code",
   "execution_count": 10,
   "metadata": {},
   "outputs": [
    {
     "name": "stdout",
     "output_type": "stream",
     "text": [
      " * ibm_db_sa://ttg95042:***@dashdb-txn-sbox-yp-lon02-01.services.eu-gb.bluemix.net:50000/BLUDB\n",
      "Done.\n"
     ]
    },
    {
     "data": {
      "text/html": [
       "<table>\n",
       "    <tr>\n",
       "        <th>1</th>\n",
       "    </tr>\n",
       "    <tr>\n",
       "        <td>49.504873</td>\n",
       "    </tr>\n",
       "</table>"
      ],
      "text/plain": [
       "[(Decimal('49.504873'),)]"
      ]
     },
     "execution_count": 10,
     "metadata": {},
     "output_type": "execute_result"
    }
   ],
   "source": [
    "%sql select avg(SAFETY_SCORE) from Chicago_Public_Schools;"
   ]
  },
  {
   "cell_type": "markdown",
   "metadata": {},
   "source": [
    "### Problem 8\n",
    "\n",
    "##### List the top 5 Community Areas by average College Enrollment [number of students] "
   ]
  },
  {
   "cell_type": "code",
   "execution_count": 11,
   "metadata": {},
   "outputs": [
    {
     "name": "stdout",
     "output_type": "stream",
     "text": [
      " * ibm_db_sa://ttg95042:***@dashdb-txn-sbox-yp-lon02-01.services.eu-gb.bluemix.net:50000/BLUDB\n",
      "Done.\n"
     ]
    },
    {
     "data": {
      "text/html": [
       "<table>\n",
       "    <tr>\n",
       "        <th>community_area_number</th>\n",
       "        <th>community_area_name</th>\n",
       "        <th>average_college_enrollment</th>\n",
       "    </tr>\n",
       "    <tr>\n",
       "        <td>57</td>\n",
       "        <td>ARCHER HEIGHTS</td>\n",
       "        <td>2411.500000</td>\n",
       "    </tr>\n",
       "    <tr>\n",
       "        <td>18</td>\n",
       "        <td>MONTCLARE</td>\n",
       "        <td>1317.000000</td>\n",
       "    </tr>\n",
       "    <tr>\n",
       "        <td>62</td>\n",
       "        <td>WEST ELSDON</td>\n",
       "        <td>1233.333333</td>\n",
       "    </tr>\n",
       "    <tr>\n",
       "        <td>58</td>\n",
       "        <td>BRIGHTON PARK</td>\n",
       "        <td>1205.875000</td>\n",
       "    </tr>\n",
       "    <tr>\n",
       "        <td>19</td>\n",
       "        <td>BELMONT CRAGIN</td>\n",
       "        <td>1198.833333</td>\n",
       "    </tr>\n",
       "</table>"
      ],
      "text/plain": [
       "[(57, 'ARCHER HEIGHTS', Decimal('2411.500000')),\n",
       " (18, 'MONTCLARE', Decimal('1317.000000')),\n",
       " (62, 'WEST ELSDON', Decimal('1233.333333')),\n",
       " (58, 'BRIGHTON PARK', Decimal('1205.875000')),\n",
       " (19, 'BELMONT CRAGIN', Decimal('1198.833333'))]"
      ]
     },
     "execution_count": 11,
     "metadata": {},
     "output_type": "execute_result"
    }
   ],
   "source": [
    "%sql select community_area_number, COMMUNITY_AREA_NAME, avg(COLLEGE_ENROLLMENT) AS \"AVERAGE_COLLEGE_ENROLLMENT\" \\\n",
    "FROM Chicago_Public_Schools \\\n",
    "GROUP BY community_area_number, COMMUNITY_AREA_NAME \\\n",
    "ORDER BY \"AVERAGE_COLLEGE_ENROLLMENT\" DESC \\\n",
    "FETCH FIRST 5 ROWS ONLY;"
   ]
  },
  {
   "cell_type": "markdown",
   "metadata": {},
   "source": [
    "### Problem 9\n",
    "\n",
    "##### Use a sub-query to determine which Community Area has the least value for school Safety Score? "
   ]
  },
  {
   "cell_type": "code",
   "execution_count": 13,
   "metadata": {},
   "outputs": [
    {
     "name": "stdout",
     "output_type": "stream",
     "text": [
      " * ibm_db_sa://ttg95042:***@dashdb-txn-sbox-yp-lon02-01.services.eu-gb.bluemix.net:50000/BLUDB\n",
      "Done.\n"
     ]
    },
    {
     "data": {
      "text/html": [
       "<table>\n",
       "    <tr>\n",
       "        <th>community_area_number</th>\n",
       "        <th>community_area_name</th>\n",
       "        <th>safety_score</th>\n",
       "    </tr>\n",
       "    <tr>\n",
       "        <td>40</td>\n",
       "        <td>WASHINGTON PARK</td>\n",
       "        <td>1</td>\n",
       "    </tr>\n",
       "</table>"
      ],
      "text/plain": [
       "[(40, 'WASHINGTON PARK', 1)]"
      ]
     },
     "execution_count": 13,
     "metadata": {},
     "output_type": "execute_result"
    }
   ],
   "source": [
    "%sql  select community_area_number, COMMUNITY_AREA_NAME, safety_score \\\n",
    "from Chicago_Public_Schools \\\n",
    "where safety_score = (select min(safety_score) from Chicago_Public_Schools);"
   ]
  },
  {
   "cell_type": "markdown",
   "metadata": {},
   "source": [
    "### Problem 10\n",
    "\n",
    "##### [Without using an explicit JOIN operator] Find the Per Capita Income of the Community Area which has a school Safety Score of 1."
   ]
  },
  {
   "cell_type": "code",
   "execution_count": 12,
   "metadata": {},
   "outputs": [
    {
     "name": "stdout",
     "output_type": "stream",
     "text": [
      " * ibm_db_sa://ttg95042:***@dashdb-txn-sbox-yp-lon02-01.services.eu-gb.bluemix.net:50000/BLUDB\n",
      "Done.\n"
     ]
    },
    {
     "data": {
      "text/html": [
       "<table>\n",
       "    <tr>\n",
       "        <th>community_area_number</th>\n",
       "        <th>community_area_name</th>\n",
       "        <th>per_capita_income</th>\n",
       "    </tr>\n",
       "    <tr>\n",
       "        <td>40</td>\n",
       "        <td>Washington Park</td>\n",
       "        <td>13785</td>\n",
       "    </tr>\n",
       "</table>"
      ],
      "text/plain": [
       "[(40, 'Washington Park', 13785)]"
      ]
     },
     "execution_count": 12,
     "metadata": {},
     "output_type": "execute_result"
    }
   ],
   "source": [
    "%sql select community_area_number, community_area_name,per_capita_income \\\n",
    "from census_data \\\n",
    "where community_area_number  in \\\n",
    "(select community_area_number from Chicago_Public_Schools where safety_score = 1);"
   ]
  },
  {
   "cell_type": "markdown",
   "metadata": {},
   "source": [
    "Copyright &copy; 2018 [cognitiveclass.ai](cognitiveclass.ai?utm_source=bducopyrightlink&utm_medium=dswb&utm_campaign=bdu). This notebook and its source code are released under the terms of the [MIT License](https://bigdatauniversity.com/mit-license/).\n"
   ]
  }
 ],
 "metadata": {
  "kernelspec": {
   "display_name": "Python 3",
   "language": "python",
   "name": "python3"
  },
  "language_info": {
   "codemirror_mode": {
    "name": "ipython",
    "version": 3
   },
   "file_extension": ".py",
   "mimetype": "text/x-python",
   "name": "python",
   "nbconvert_exporter": "python",
   "pygments_lexer": "ipython3",
   "version": "3.6.8"
  },
  "widgets": {
   "state": {},
   "version": "1.1.2"
  }
 },
 "nbformat": 4,
 "nbformat_minor": 2
}
